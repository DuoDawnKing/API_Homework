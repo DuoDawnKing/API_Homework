{
 "cells": [
  {
   "cell_type": "code",
   "execution_count": 1,
   "id": "02fcd01d",
   "metadata": {},
   "outputs": [],
   "source": [
    "import os\n",
    "import requests\n",
    "import pandas as pd\n",
    "from dotenv import load_dotenv\n",
    "import alpaca_trade_api as tradeapi\n",
    "from alpaca_trade_api.rest import REST, TimeFrame\n",
    "import numpy as np\n",
    "from matplotlib import pyplot as plt\n",
    "import datetime\n",
    "\n",
    "\n",
    "\n",
    "%matplotlib inline"
   ]
  },
  {
   "cell_type": "code",
   "execution_count": 2,
   "id": "439758b4",
   "metadata": {},
   "outputs": [
    {
     "data": {
      "text/plain": [
       "<Response [200]>"
      ]
     },
     "execution_count": 2,
     "metadata": {},
     "output_type": "execute_result"
    }
   ],
   "source": [
    "# we will be pulling the url of bitcoin and etherium using the given url \n",
    "btc_url = \"https://api.alternative.me/v2/ticker/Bitcoin/?convert=CAD\" + \"?format=json\"\n",
    "eth_url = \"https://api.alternative.me/v2/ticker/Ethereum/?convert=CAD\" + \"?format=json\"\n",
    "\n",
    "requests.get(btc_url)\n",
    "requests.get(eth_url)"
   ]
  },
  {
   "cell_type": "code",
   "execution_count": 3,
   "id": "378e04ed",
   "metadata": {},
   "outputs": [
    {
     "name": "stdout",
     "output_type": "stream",
     "text": [
      "b'{\\n\\t\"data\": {\\n\\t\\t\"1027\": {\\n\\t\\t\\t\"id\": 1027,\\n\\t\\t\\t\"name\": \"Ethereum\",\\n\\t\\t\\t\"symbol\": \"ETH\",\\n\\t\\t\\t\"website_slug\": \"ethereum\",\\n\\t\\t\\t\"rank\": 2,\\n\\t\\t\\t\"circulating_supply\": 120316855,\\n\\t\\t\\t\"total_supply\": 120316855,\\n\\t\\t\\t\"max_supply\": 0,\\n\\t\\t\\t\"quotes\": {\\n\\t\\t\\t\\t\"USD\": {\\n\\t\\t\\t\\t\\t\"price\": 3253.2500000000000000,\\n\\t\\t\\t\\t\\t\"volume_24h\": 8216036296,\\n\\t\\t\\t\\t\\t\"market_cap\": 391311102179,\\n\\t\\t\\t\\t\\t\"percentage_change_1h\": -0.0784854988990570,\\n\\t\\t\\t\\t\\t\"percentage_change_24h\": 1.0322127981849800,\\n\\t\\t\\t\\t\\t\"percentage_change_7d\": -5.4380620558063400,\\n\\t\\t\\t\\t\\t\"percent_change_1h\": -0.0784854988990570,\\n\\t\\t\\t\\t\\t\"percent_change_24h\": 1.0322127981849800,\\n\\t\\t\\t\\t\\t\"percent_change_7d\": -5.4380620558063400\\n\\t\\t\\t\\t}\\n\\t\\t\\t},\\n\\t\\t\\t\"last_updated\": 1649569411\\n\\t\\t}\\n\\t},\\n\\t\"metadata\": {\\n\\t\\t\"timestamp\": 1649569411,\\n\\t\\t\"num_cryptocurrencies\": 3105,\\n\\t\\t\"error\": null\\n\\t}\\n}'\n",
      "b'{\\n\\t\"data\": {\\n\\t\\t\"1\": {\\n\\t\\t\\t\"id\": 1,\\n\\t\\t\\t\"name\": \"Bitcoin\",\\n\\t\\t\\t\"symbol\": \"BTC\",\\n\\t\\t\\t\"website_slug\": \"bitcoin\",\\n\\t\\t\\t\"rank\": 1,\\n\\t\\t\\t\"circulating_supply\": 19007625,\\n\\t\\t\\t\"total_supply\": 19007625,\\n\\t\\t\\t\"max_supply\": 21000000,\\n\\t\\t\\t\"quotes\": {\\n\\t\\t\\t\\t\"USD\": {\\n\\t\\t\\t\\t\\t\"price\": 42755.0000000000000000,\\n\\t\\t\\t\\t\\t\"volume_24h\": 12395491224,\\n\\t\\t\\t\\t\\t\"market_cap\": 812654406150,\\n\\t\\t\\t\\t\\t\"percentage_change_1h\": -0.0864217712249568,\\n\\t\\t\\t\\t\\t\"percentage_change_24h\": 0.4408618198509350,\\n\\t\\t\\t\\t\\t\"percentage_change_7d\": -6.7335173848496400,\\n\\t\\t\\t\\t\\t\"percent_change_1h\": -0.0864217712249568,\\n\\t\\t\\t\\t\\t\"percent_change_24h\": 0.4408618198509350,\\n\\t\\t\\t\\t\\t\"percent_change_7d\": -6.7335173848496400\\n\\t\\t\\t\\t}\\n\\t\\t\\t},\\n\\t\\t\\t\"last_updated\": 1649569340\\n\\t\\t}\\n\\t},\\n\\t\"metadata\": {\\n\\t\\t\"timestamp\": 1649569340,\\n\\t\\t\"num_cryptocurrencies\": 3105,\\n\\t\\t\"error\": null\\n\\t}\\n}'\n"
     ]
    }
   ],
   "source": [
    "# here we we will request the data and then create a variable for the content and also we are goin gto set up the current holding from the user\n",
    "response_eth = requests.get(btc_url)\n",
    "response_btc = requests.get(eth_url) \n",
    "\n",
    "\n",
    "new_cyrpto_info_eth = response_eth.content\n",
    "new_cyrpto_ifno_btc = response_btc.content\n",
    "\n",
    "print(new_cyrpto_ifno_btc)\n",
    "print(new_cyrpto_info_eth)\n",
    "\n",
    "my_btc = 1.2\n",
    "my_eth = 5.3 \n"
   ]
  },
  {
   "cell_type": "code",
   "execution_count": 4,
   "id": "1a2b0f8f",
   "metadata": {},
   "outputs": [],
   "source": [
    "# we are going to use json for the dump this would be for both bitcoin and etherium \n",
    "import json\n",
    "\n",
    "data1 = response_eth.json() \n",
    "data2 = response_btc.json()\n",
    "\n",
    "\n",
    "\n"
   ]
  },
  {
   "cell_type": "code",
   "execution_count": 5,
   "id": "02af0b86",
   "metadata": {},
   "outputs": [
    {
     "name": "stdout",
     "output_type": "stream",
     "text": [
      "{\n",
      "    \"data\": {\n",
      "        \"1\": {\n",
      "            \"id\": 1,\n",
      "            \"name\": \"Bitcoin\",\n",
      "            \"symbol\": \"BTC\",\n",
      "            \"website_slug\": \"bitcoin\",\n",
      "            \"rank\": 1,\n",
      "            \"circulating_supply\": 19007625,\n",
      "            \"total_supply\": 19007625,\n",
      "            \"max_supply\": 21000000,\n",
      "            \"quotes\": {\n",
      "                \"USD\": {\n",
      "                    \"price\": 42755.0,\n",
      "                    \"volume_24h\": 12395491224,\n",
      "                    \"market_cap\": 812654406150,\n",
      "                    \"percentage_change_1h\": -0.0864217712249568,\n",
      "                    \"percentage_change_24h\": 0.440861819850935,\n",
      "                    \"percentage_change_7d\": -6.73351738484964,\n",
      "                    \"percent_change_1h\": -0.0864217712249568,\n",
      "                    \"percent_change_24h\": 0.440861819850935,\n",
      "                    \"percent_change_7d\": -6.73351738484964\n",
      "                }\n",
      "            },\n",
      "            \"last_updated\": 1649569340\n",
      "        }\n",
      "    },\n",
      "    \"metadata\": {\n",
      "        \"timestamp\": 1649569340,\n",
      "        \"num_cryptocurrencies\": 3105,\n",
      "        \"error\": null\n",
      "    }\n",
      "}\n"
     ]
    }
   ],
   "source": [
    "\n",
    "\n",
    "print(json.dumps(data1,indent=4))"
   ]
  },
  {
   "cell_type": "code",
   "execution_count": 6,
   "id": "cb362435",
   "metadata": {},
   "outputs": [
    {
     "name": "stdout",
     "output_type": "stream",
     "text": [
      "{\n",
      "    \"data\": {\n",
      "        \"1027\": {\n",
      "            \"id\": 1027,\n",
      "            \"name\": \"Ethereum\",\n",
      "            \"symbol\": \"ETH\",\n",
      "            \"website_slug\": \"ethereum\",\n",
      "            \"rank\": 2,\n",
      "            \"circulating_supply\": 120316855,\n",
      "            \"total_supply\": 120316855,\n",
      "            \"max_supply\": 0,\n",
      "            \"quotes\": {\n",
      "                \"USD\": {\n",
      "                    \"price\": 3253.25,\n",
      "                    \"volume_24h\": 8216036296,\n",
      "                    \"market_cap\": 391311102179,\n",
      "                    \"percentage_change_1h\": -0.078485498899057,\n",
      "                    \"percentage_change_24h\": 1.03221279818498,\n",
      "                    \"percentage_change_7d\": -5.43806205580634,\n",
      "                    \"percent_change_1h\": -0.078485498899057,\n",
      "                    \"percent_change_24h\": 1.03221279818498,\n",
      "                    \"percent_change_7d\": -5.43806205580634\n",
      "                }\n",
      "            },\n",
      "            \"last_updated\": 1649569411\n",
      "        }\n",
      "    },\n",
      "    \"metadata\": {\n",
      "        \"timestamp\": 1649569411,\n",
      "        \"num_cryptocurrencies\": 3105,\n",
      "        \"error\": null\n",
      "    }\n",
      "}\n"
     ]
    }
   ],
   "source": [
    "print(json.dumps(data2,indent=4))"
   ]
  },
  {
   "cell_type": "code",
   "execution_count": 7,
   "id": "9cbbdc25",
   "metadata": {},
   "outputs": [],
   "source": [
    "# here we are pulling directly from those areas and are going to be specific on how we pull the price\n",
    "btc_price = (data1['data']['1']['quotes']['USD']['price'])\n",
    "eth_price = (data2['data']['1027']['quotes']['USD']['price'])"
   ]
  },
  {
   "cell_type": "code",
   "execution_count": 8,
   "id": "465d7181-d9c0-40bd-a914-91a5b0ba8fa3",
   "metadata": {},
   "outputs": [
    {
     "name": "stdout",
     "output_type": "stream",
     "text": [
      "51306.0\n",
      "17242.225\n"
     ]
    }
   ],
   "source": [
    "# we are calculating the value price of etherium and bitcoin for the user and how much they would have in value\n",
    "btc_value = btc_price * my_btc\n",
    "             \n",
    "eth_value = eth_price * my_eth\n",
    "            \n",
    "\n",
    "print(btc_value)\n",
    "print(eth_value)"
   ]
  },
  {
   "cell_type": "code",
   "execution_count": 9,
   "id": "dd0860f5",
   "metadata": {},
   "outputs": [
    {
     "name": "stdout",
     "output_type": "stream",
     "text": [
      "     shares\n",
      "AGG     200\n",
      "SPY      50\n",
      "Alpaca Key type: <class 'str'>\n",
      "Alpaca Secret Key type: <class 'str'>\n"
     ]
    }
   ],
   "source": [
    "# this is the second part where we will pull stocks and bonds, first we generete a dataframe for shares that will be used down the line \n",
    "shares_data = {\n",
    "    \"shares\": [200,50]\n",
    "}\n",
    "\n",
    "tickers=[\"AGG\",\"SPY\"]\n",
    "\n",
    "df_share =pd.DataFrame(shares_data,index=tickers)\n",
    "\n",
    "print(df_share)\n",
    "\n",
    "# we will pull the alpaca key and the secrete key using the tradeapi.rest\n",
    "load_dotenv()\n",
    "\n",
    "api_key = os.getenv(\"QUANDL_API_KEY\")\n",
    "api_skey = os.getenv(\"SECRET_API_KEY\")\n",
    "\n",
    "print(f\"Alpaca Key type: {type(api_key)}\")\n",
    "print(f\"Alpaca Secret Key type: {type(api_skey)}\")\n",
    "\n",
    "\n",
    "\n"
   ]
  },
  {
   "cell_type": "code",
   "execution_count": null,
   "id": "672f2c6b",
   "metadata": {},
   "outputs": [],
   "source": []
  },
  {
   "cell_type": "code",
   "execution_count": 10,
   "id": "61598b95",
   "metadata": {},
   "outputs": [],
   "source": [
    "# Format current date as ISO format\n",
    "start = pd.Timestamp(\"2019-07-14\", tz=\"America/New_York\").isoformat()\n",
    "end = pd.Timestamp(\"2020-07-14\", tz=\"America/New_York\").isoformat()"
   ]
  },
  {
   "cell_type": "code",
   "execution_count": 11,
   "id": "f50228ba",
   "metadata": {},
   "outputs": [
    {
     "data": {
      "text/html": [
       "<div>\n",
       "<style scoped>\n",
       "    .dataframe tbody tr th:only-of-type {\n",
       "        vertical-align: middle;\n",
       "    }\n",
       "\n",
       "    .dataframe tbody tr th {\n",
       "        vertical-align: top;\n",
       "    }\n",
       "\n",
       "    .dataframe thead th {\n",
       "        text-align: right;\n",
       "    }\n",
       "</style>\n",
       "<table border=\"1\" class=\"dataframe\">\n",
       "  <thead>\n",
       "    <tr style=\"text-align: right;\">\n",
       "      <th></th>\n",
       "      <th>open</th>\n",
       "      <th>high</th>\n",
       "      <th>low</th>\n",
       "      <th>close</th>\n",
       "      <th>volume</th>\n",
       "      <th>trade_count</th>\n",
       "      <th>vwap</th>\n",
       "    </tr>\n",
       "    <tr>\n",
       "      <th>timestamp</th>\n",
       "      <th></th>\n",
       "      <th></th>\n",
       "      <th></th>\n",
       "      <th></th>\n",
       "      <th></th>\n",
       "      <th></th>\n",
       "      <th></th>\n",
       "    </tr>\n",
       "  </thead>\n",
       "  <tbody>\n",
       "    <tr>\n",
       "      <th>2021-06-08 04:00:00+00:00</th>\n",
       "      <td>423.16</td>\n",
       "      <td>423.21</td>\n",
       "      <td>420.32</td>\n",
       "      <td>422.28</td>\n",
       "      <td>47135978</td>\n",
       "      <td>322200</td>\n",
       "      <td>422.179111</td>\n",
       "    </tr>\n",
       "    <tr>\n",
       "      <th>2021-06-09 04:00:00+00:00</th>\n",
       "      <td>423.15</td>\n",
       "      <td>423.26</td>\n",
       "      <td>421.41</td>\n",
       "      <td>421.65</td>\n",
       "      <td>48436158</td>\n",
       "      <td>286358</td>\n",
       "      <td>422.325509</td>\n",
       "    </tr>\n",
       "    <tr>\n",
       "      <th>2021-06-10 04:00:00+00:00</th>\n",
       "      <td>422.96</td>\n",
       "      <td>424.63</td>\n",
       "      <td>421.55</td>\n",
       "      <td>423.61</td>\n",
       "      <td>51043502</td>\n",
       "      <td>336966</td>\n",
       "      <td>423.323172</td>\n",
       "    </tr>\n",
       "    <tr>\n",
       "      <th>2021-06-11 04:00:00+00:00</th>\n",
       "      <td>424.12</td>\n",
       "      <td>424.43</td>\n",
       "      <td>422.82</td>\n",
       "      <td>424.31</td>\n",
       "      <td>45188069</td>\n",
       "      <td>255513</td>\n",
       "      <td>423.769273</td>\n",
       "    </tr>\n",
       "    <tr>\n",
       "      <th>2021-06-14 04:00:00+00:00</th>\n",
       "      <td>424.43</td>\n",
       "      <td>425.37</td>\n",
       "      <td>423.10</td>\n",
       "      <td>425.26</td>\n",
       "      <td>42263981</td>\n",
       "      <td>278931</td>\n",
       "      <td>424.093624</td>\n",
       "    </tr>\n",
       "  </tbody>\n",
       "</table>\n",
       "</div>"
      ],
      "text/plain": [
       "                             open    high     low   close    volume  \\\n",
       "timestamp                                                             \n",
       "2021-06-08 04:00:00+00:00  423.16  423.21  420.32  422.28  47135978   \n",
       "2021-06-09 04:00:00+00:00  423.15  423.26  421.41  421.65  48436158   \n",
       "2021-06-10 04:00:00+00:00  422.96  424.63  421.55  423.61  51043502   \n",
       "2021-06-11 04:00:00+00:00  424.12  424.43  422.82  424.31  45188069   \n",
       "2021-06-14 04:00:00+00:00  424.43  425.37  423.10  425.26  42263981   \n",
       "\n",
       "                           trade_count        vwap  \n",
       "timestamp                                           \n",
       "2021-06-08 04:00:00+00:00       322200  422.179111  \n",
       "2021-06-09 04:00:00+00:00       286358  422.325509  \n",
       "2021-06-10 04:00:00+00:00       336966  423.323172  \n",
       "2021-06-11 04:00:00+00:00       255513  423.769273  \n",
       "2021-06-14 04:00:00+00:00       278931  424.093624  "
      ]
     },
     "execution_count": 11,
     "metadata": {},
     "output_type": "execute_result"
    }
   ],
   "source": [
    "#we are using the key to gain access to pull information of SPY and AGG, it is in a different format because the .rest() was acting up so this is an alternate way of pulling the data\n",
    "\n",
    "api = REST(api_key,api_skey)\n",
    "\n",
    "df_portfolio_spy = api.get_bars(\"SPY\",TimeFrame.Day,\"2021-06-08\",limit=1000).df\n",
    "\n",
    "df_portfolio_spy.head()\n",
    "#df_portfolio_spy.head()"
   ]
  },
  {
   "cell_type": "code",
   "execution_count": 12,
   "id": "7327cc5e",
   "metadata": {},
   "outputs": [
    {
     "data": {
      "text/html": [
       "<div>\n",
       "<style scoped>\n",
       "    .dataframe tbody tr th:only-of-type {\n",
       "        vertical-align: middle;\n",
       "    }\n",
       "\n",
       "    .dataframe tbody tr th {\n",
       "        vertical-align: top;\n",
       "    }\n",
       "\n",
       "    .dataframe thead th {\n",
       "        text-align: right;\n",
       "    }\n",
       "</style>\n",
       "<table border=\"1\" class=\"dataframe\">\n",
       "  <thead>\n",
       "    <tr style=\"text-align: right;\">\n",
       "      <th></th>\n",
       "      <th>open</th>\n",
       "      <th>high</th>\n",
       "      <th>low</th>\n",
       "      <th>close</th>\n",
       "      <th>volume</th>\n",
       "      <th>trade_count</th>\n",
       "      <th>vwap</th>\n",
       "    </tr>\n",
       "    <tr>\n",
       "      <th>timestamp</th>\n",
       "      <th></th>\n",
       "      <th></th>\n",
       "      <th></th>\n",
       "      <th></th>\n",
       "      <th></th>\n",
       "      <th></th>\n",
       "      <th></th>\n",
       "    </tr>\n",
       "  </thead>\n",
       "  <tbody>\n",
       "    <tr>\n",
       "      <th>2021-06-08 04:00:00+00:00</th>\n",
       "      <td>114.84</td>\n",
       "      <td>114.87</td>\n",
       "      <td>114.7800</td>\n",
       "      <td>114.81</td>\n",
       "      <td>4395332</td>\n",
       "      <td>16511</td>\n",
       "      <td>114.826518</td>\n",
       "    </tr>\n",
       "    <tr>\n",
       "      <th>2021-06-09 04:00:00+00:00</th>\n",
       "      <td>115.00</td>\n",
       "      <td>115.43</td>\n",
       "      <td>114.9700</td>\n",
       "      <td>115.04</td>\n",
       "      <td>3643098</td>\n",
       "      <td>12294</td>\n",
       "      <td>115.048163</td>\n",
       "    </tr>\n",
       "    <tr>\n",
       "      <th>2021-06-10 04:00:00+00:00</th>\n",
       "      <td>114.91</td>\n",
       "      <td>115.31</td>\n",
       "      <td>114.8605</td>\n",
       "      <td>115.28</td>\n",
       "      <td>3963706</td>\n",
       "      <td>15696</td>\n",
       "      <td>115.137864</td>\n",
       "    </tr>\n",
       "    <tr>\n",
       "      <th>2021-06-11 04:00:00+00:00</th>\n",
       "      <td>115.29</td>\n",
       "      <td>115.32</td>\n",
       "      <td>115.1600</td>\n",
       "      <td>115.23</td>\n",
       "      <td>3781884</td>\n",
       "      <td>15040</td>\n",
       "      <td>115.241146</td>\n",
       "    </tr>\n",
       "    <tr>\n",
       "      <th>2021-06-14 04:00:00+00:00</th>\n",
       "      <td>115.18</td>\n",
       "      <td>115.18</td>\n",
       "      <td>114.9350</td>\n",
       "      <td>114.94</td>\n",
       "      <td>3271051</td>\n",
       "      <td>11467</td>\n",
       "      <td>115.008052</td>\n",
       "    </tr>\n",
       "  </tbody>\n",
       "</table>\n",
       "</div>"
      ],
      "text/plain": [
       "                             open    high       low   close   volume  \\\n",
       "timestamp                                                              \n",
       "2021-06-08 04:00:00+00:00  114.84  114.87  114.7800  114.81  4395332   \n",
       "2021-06-09 04:00:00+00:00  115.00  115.43  114.9700  115.04  3643098   \n",
       "2021-06-10 04:00:00+00:00  114.91  115.31  114.8605  115.28  3963706   \n",
       "2021-06-11 04:00:00+00:00  115.29  115.32  115.1600  115.23  3781884   \n",
       "2021-06-14 04:00:00+00:00  115.18  115.18  114.9350  114.94  3271051   \n",
       "\n",
       "                           trade_count        vwap  \n",
       "timestamp                                           \n",
       "2021-06-08 04:00:00+00:00        16511  114.826518  \n",
       "2021-06-09 04:00:00+00:00        12294  115.048163  \n",
       "2021-06-10 04:00:00+00:00        15696  115.137864  \n",
       "2021-06-11 04:00:00+00:00        15040  115.241146  \n",
       "2021-06-14 04:00:00+00:00        11467  115.008052  "
      ]
     },
     "execution_count": 12,
     "metadata": {},
     "output_type": "execute_result"
    }
   ],
   "source": [
    "df_portfolio_agg = api.get_bars(\"AGG\",TimeFrame.Day,\"2021-06-08\", limit=1000).df\n",
    "df_portfolio_agg.head()"
   ]
  },
  {
   "cell_type": "code",
   "execution_count": 13,
   "id": "7757ad89",
   "metadata": {},
   "outputs": [
    {
     "data": {
      "text/html": [
       "<div>\n",
       "<style scoped>\n",
       "    .dataframe tbody tr th:only-of-type {\n",
       "        vertical-align: middle;\n",
       "    }\n",
       "\n",
       "    .dataframe tbody tr th {\n",
       "        vertical-align: top;\n",
       "    }\n",
       "\n",
       "    .dataframe thead th {\n",
       "        text-align: right;\n",
       "    }\n",
       "</style>\n",
       "<table border=\"1\" class=\"dataframe\">\n",
       "  <thead>\n",
       "    <tr style=\"text-align: right;\">\n",
       "      <th></th>\n",
       "      <th>SPY</th>\n",
       "      <th>AGG</th>\n",
       "    </tr>\n",
       "    <tr>\n",
       "      <th>timestamp</th>\n",
       "      <th></th>\n",
       "      <th></th>\n",
       "    </tr>\n",
       "  </thead>\n",
       "  <tbody>\n",
       "    <tr>\n",
       "      <th>2021-06-08 04:00:00+00:00</th>\n",
       "      <td>422.28</td>\n",
       "      <td>114.81</td>\n",
       "    </tr>\n",
       "    <tr>\n",
       "      <th>2021-06-09 04:00:00+00:00</th>\n",
       "      <td>421.65</td>\n",
       "      <td>115.04</td>\n",
       "    </tr>\n",
       "    <tr>\n",
       "      <th>2021-06-10 04:00:00+00:00</th>\n",
       "      <td>423.61</td>\n",
       "      <td>115.28</td>\n",
       "    </tr>\n",
       "    <tr>\n",
       "      <th>2021-06-11 04:00:00+00:00</th>\n",
       "      <td>424.31</td>\n",
       "      <td>115.23</td>\n",
       "    </tr>\n",
       "    <tr>\n",
       "      <th>2021-06-14 04:00:00+00:00</th>\n",
       "      <td>425.26</td>\n",
       "      <td>114.94</td>\n",
       "    </tr>\n",
       "  </tbody>\n",
       "</table>\n",
       "</div>"
      ],
      "text/plain": [
       "                              SPY     AGG\n",
       "timestamp                                \n",
       "2021-06-08 04:00:00+00:00  422.28  114.81\n",
       "2021-06-09 04:00:00+00:00  421.65  115.04\n",
       "2021-06-10 04:00:00+00:00  423.61  115.28\n",
       "2021-06-11 04:00:00+00:00  424.31  115.23\n",
       "2021-06-14 04:00:00+00:00  425.26  114.94"
      ]
     },
     "execution_count": 13,
     "metadata": {},
     "output_type": "execute_result"
    }
   ],
   "source": [
    "# we are pulling the closing price for SPY and AGG\n",
    "\n",
    "\n",
    "df_closing_prices = pd.DataFrame()\n",
    "\n",
    "df_closing_prices[\"SPY\"] = df_portfolio_spy['close']\n",
    "\n",
    "df_closing_prices['AGG'] = df_portfolio_agg['close']\n",
    "\n",
    "df_closing_prices.head()\n"
   ]
  },
  {
   "cell_type": "code",
   "execution_count": 14,
   "id": "a689c930",
   "metadata": {},
   "outputs": [],
   "source": [
    "\n"
   ]
  },
  {
   "cell_type": "code",
   "execution_count": 33,
   "id": "b3931346",
   "metadata": {},
   "outputs": [
    {
     "name": "stdout",
     "output_type": "stream",
     "text": [
      "21114.0\n",
      "22962.0\n",
      "The current value of the 200 AGG shares is $22962.00\n",
      "The current value of the 50 SPY shares is $21114.00\n"
     ]
    }
   ],
   "source": [
    "# we will convert the two groups into floats which would remove the timestamp, believe me this was the longest part because i tried to remove the timestamp directly but it would act out. we are also pulling the price of the date 06-08-2021\n",
    "closing_day_spy = float(df_closing_prices['SPY'][\"2021-06-08\"])\n",
    "\n",
    "closing_day_agg = float(df_closing_prices['AGG'][\"2021-06-08\"])\n",
    "\n",
    "\n",
    "\n",
    "\n",
    "\n",
    "spy_price = closing_day_spy * df_share.loc['SPY'][\"shares\"]\n",
    "\n",
    "agg_price = closing_day_agg * df_share.loc[\"AGG\"][\"shares\"]\n",
    "\n",
    "\n",
    "\n",
    "\n",
    "\n",
    "print(f\"The current value of the {df_share.loc['AGG']['shares']} AGG shares is ${agg_price:0.2f}\")\n",
    "print(f\"The current value of the {df_share.loc['SPY']['shares']} SPY shares is ${spy_price:0.2f}\")"
   ]
  },
  {
   "cell_type": "code",
   "execution_count": 16,
   "id": "1051e671",
   "metadata": {},
   "outputs": [
    {
     "name": "stdout",
     "output_type": "stream",
     "text": [
      "68548.225\n",
      "44076.0\n"
     ]
    }
   ],
   "source": [
    "# just adding the values together \n",
    "monthly_income = 12000\n",
    "crypto_total = btc_value + eth_value\n",
    "share_total = spy_price + agg_price\n",
    "\n",
    "print(crypto_total)\n",
    "print(share_total)\n",
    "\n",
    "\n"
   ]
  },
  {
   "cell_type": "code",
   "execution_count": 29,
   "id": "4a12b0a0",
   "metadata": {},
   "outputs": [
    {
     "data": {
      "text/html": [
       "<div>\n",
       "<style scoped>\n",
       "    .dataframe tbody tr th:only-of-type {\n",
       "        vertical-align: middle;\n",
       "    }\n",
       "\n",
       "    .dataframe tbody tr th {\n",
       "        vertical-align: top;\n",
       "    }\n",
       "\n",
       "    .dataframe thead th {\n",
       "        text-align: right;\n",
       "    }\n",
       "</style>\n",
       "<table border=\"1\" class=\"dataframe\">\n",
       "  <thead>\n",
       "    <tr style=\"text-align: right;\">\n",
       "      <th></th>\n",
       "      <th>Amount</th>\n",
       "    </tr>\n",
       "  </thead>\n",
       "  <tbody>\n",
       "    <tr>\n",
       "      <th>shares</th>\n",
       "      <td>44076.000</td>\n",
       "    </tr>\n",
       "    <tr>\n",
       "      <th>crypto</th>\n",
       "      <td>68548.225</td>\n",
       "    </tr>\n",
       "  </tbody>\n",
       "</table>\n",
       "</div>"
      ],
      "text/plain": [
       "           Amount\n",
       "shares  44076.000\n",
       "crypto  68548.225"
      ]
     },
     "execution_count": 29,
     "metadata": {},
     "output_type": "execute_result"
    }
   ],
   "source": [
    "# creating a new dataframe for the share/bond and the cyrpto which then is being displayed \n",
    "value_data = {\n",
    "    \"Amount\" : [share_total, crypto_total]\n",
    "}\n",
    "     \n",
    "\n",
    "df_value = pd.DataFrame(value_data)\n",
    "df_saving = df_value.index = ['shares','crypto']\n",
    "y = {\n",
    "    'shares','crypto'\n",
    "}\n",
    "df_value"
   ]
  },
  {
   "cell_type": "code",
   "execution_count": 41,
   "id": "773854c8",
   "metadata": {},
   "outputs": [
    {
     "ename": "TypeError",
     "evalue": "'dict' object is not callable",
     "output_type": "error",
     "traceback": [
      "\u001b[1;31m---------------------------------------------------------------------------\u001b[0m",
      "\u001b[1;31mTypeError\u001b[0m                                 Traceback (most recent call last)",
      "\u001b[1;32m~\\AppData\\Local\\Temp/ipykernel_10204/639202601.py\u001b[0m in \u001b[0;36m<module>\u001b[1;34m\u001b[0m\n\u001b[1;32m----> 1\u001b[1;33m \u001b[0mvalue_data\u001b[0m\u001b[1;33m(\u001b[0m\u001b[1;33m[\u001b[0m\u001b[0mshare_total\u001b[0m\u001b[1;33m,\u001b[0m\u001b[0mcrypto_total\u001b[0m\u001b[1;33m]\u001b[0m\u001b[1;33m)\u001b[0m\u001b[1;33m.\u001b[0m\u001b[0msum\u001b[0m\u001b[1;33m(\u001b[0m\u001b[1;33m)\u001b[0m\u001b[1;33m.\u001b[0m\u001b[0mplot\u001b[0m\u001b[1;33m(\u001b[0m\u001b[0mkind\u001b[0m\u001b[1;33m=\u001b[0m\u001b[1;34m'pie'\u001b[0m\u001b[1;33m,\u001b[0m \u001b[0my\u001b[0m \u001b[1;33m=\u001b[0m \u001b[1;33m[\u001b[0m\u001b[1;34m'shares'\u001b[0m\u001b[1;33m,\u001b[0m\u001b[1;34m'crypto'\u001b[0m\u001b[1;33m]\u001b[0m\u001b[1;33m)\u001b[0m\u001b[1;33m\u001b[0m\u001b[1;33m\u001b[0m\u001b[0m\n\u001b[0m",
      "\u001b[1;31mTypeError\u001b[0m: 'dict' object is not callable"
     ]
    }
   ],
   "source": [
    "value_data([share_total,crypto_total]).sum().plot(kind='pie', y = ['shares','crypto'])"
   ]
  },
  {
   "cell_type": "code",
   "execution_count": 35,
   "id": "aeb24fa0-cd17-463b-8d3e-7185937dc9dc",
   "metadata": {},
   "outputs": [
    {
     "name": "stdout",
     "output_type": "stream",
     "text": [
      "you have enough money saved up\n"
     ]
    }
   ],
   "source": [
    "monthly_income = 12000\n",
    "emergency_fund = share_total + crypto_total\n",
    "\n",
    "if monthly_income * 3 < emergency_fund:\n",
    "    print(\"you have enough money saved up\")\n",
    "elif monthly_income * 3 > emergency_fund:\n",
    "    print(\"you do not have enough, and need to save more\")\n",
    "else:\n",
    "    print(\"you have the exact amount\")"
   ]
  },
  {
   "cell_type": "code",
   "execution_count": null,
   "id": "672f2e39-2409-4710-ac3e-9c027ea12031",
   "metadata": {},
   "outputs": [],
   "source": []
  }
 ],
 "metadata": {
  "kernelspec": {
   "display_name": "Python 3 (ipykernel)",
   "language": "python",
   "name": "python3"
  },
  "language_info": {
   "codemirror_mode": {
    "name": "ipython",
    "version": 3
   },
   "file_extension": ".py",
   "mimetype": "text/x-python",
   "name": "python",
   "nbconvert_exporter": "python",
   "pygments_lexer": "ipython3",
   "version": "3.9.7"
  }
 },
 "nbformat": 4,
 "nbformat_minor": 5
}
